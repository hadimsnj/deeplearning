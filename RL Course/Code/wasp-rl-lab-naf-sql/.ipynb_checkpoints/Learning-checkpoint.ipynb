{
 "cells": [
  {
   "cell_type": "code",
   "execution_count": 1,
   "id": "06146a2d-6245-4c12-af29-84042695259e",
   "metadata": {},
   "outputs": [],
   "source": [
    "import gym\n",
    "import numpy as np\n",
    "import matplotlib.pyplot as plt\n",
    "import random\n",
    "import torch\n",
    "import torch.nn as nn\n",
    "\n",
    "from scipy.stats import kde\n",
    "from torch.distributions import MultivariateNormal\n",
    "from torch.optim import Adam\n",
    "\n",
    "from buffer import ReplayBuffer\n",
    "from utils import presample_env, transform_action, smooth, obs_transform, OUNoise, rbf_kernel2\n",
    "from env_v2 import MultiGoalEnv\n",
    "from network import MLP\n",
    "from plotting import plot_loss, plot_reward"
   ]
  },
  {
   "cell_type": "code",
   "execution_count": 2,
   "id": "24931b5d-1035-4ebf-8eee-35b51e9f693f",
   "metadata": {},
   "outputs": [
    {
     "name": "stdout",
     "output_type": "stream",
     "text": [
      "torch device: cuda\n"
     ]
    }
   ],
   "source": [
    "%matplotlib inline\n",
    "plt.rcParams['figure.dpi'] = 100\n",
    "\n",
    "DEVICE = torch.device('cuda') if torch.cuda.is_available() else torch.device(\"cpu\")\n",
    "print(f\"torch device: {DEVICE}\")"
   ]
  },
  {
   "cell_type": "code",
   "execution_count": 3,
   "id": "e16d58b6-faa6-4fe8-880e-f4a820ff1609",
   "metadata": {},
   "outputs": [],
   "source": [
    "torch.manual_seed(0)\n",
    "random.seed(0)\n",
    "np.random.seed(0)"
   ]
  },
  {
   "cell_type": "code",
   "execution_count": null,
   "id": "0b54004e-85b9-4498-a8e4-aa90412c763a",
   "metadata": {},
   "outputs": [],
   "source": []
  },
  {
   "cell_type": "code",
   "execution_count": null,
   "id": "1bb8f558-1905-4abe-a3f5-c67bd55dba7c",
   "metadata": {},
   "outputs": [],
   "source": []
  },
  {
   "cell_type": "code",
   "execution_count": null,
   "id": "afab5980-d146-4262-873c-6aafc6a2adc8",
   "metadata": {},
   "outputs": [],
   "source": []
  }
 ],
 "metadata": {
  "kernelspec": {
   "display_name": "Python [conda env:pyt] *",
   "language": "python",
   "name": "conda-env-pyt-py"
  },
  "language_info": {
   "codemirror_mode": {
    "name": "ipython",
    "version": 3
   },
   "file_extension": ".py",
   "mimetype": "text/x-python",
   "name": "python",
   "nbconvert_exporter": "python",
   "pygments_lexer": "ipython3",
   "version": "3.10.8"
  }
 },
 "nbformat": 4,
 "nbformat_minor": 5
}
